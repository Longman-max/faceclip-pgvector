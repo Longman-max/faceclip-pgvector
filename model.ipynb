{
  "cells": [
    {
      "cell_type": "markdown",
      "metadata": {
        "id": "g04OdKntfzG5"
      },
      "source": [
        "# Image recognition with Python, OpenCV, OpenAI CLIP model and PostgreSQL `pgvector`\n",
        "\n",
        "This repository contains the working code for the example in the [blog post](https://aiven.io/developer/find-faces-with-pgvector)\n",
        "\n",
        "The below is the overall flow:\n",
        "\n",
        "![Overall flow](https://github.com/Aiven-Labs/pgvector-image-recognition/blob/main/entire_flow.jpg?raw=1)"
      ]
    },
    {
      "cell_type": "markdown",
      "metadata": {
        "id": "Wc9dGsKbfzG6"
      },
      "source": [
        "## Step 0: Install requirements"
      ]
    },
    {
      "cell_type": "code",
      "execution_count": null,
      "metadata": {
        "id": "JDCW1PT4fzG7"
      },
      "outputs": [
        {
          "name": "stdout",
          "output_type": "stream",
          "text": [
            "^C\n",
            "Note: you may need to restart the kernel to use updated packages.\n"
          ]
        }
      ],
      "source": [
        "# %pip install opencv-python imgbeddings psycopg2-binary"
      ]
    },
    {
      "cell_type": "markdown",
      "metadata": {
        "id": "NCUUUfvufzG7"
      },
      "source": [
        "## Step 1: Face recognition\n",
        "\n",
        "Detect the faces from the [test-image](test-image.png) picture and store them under the `stored-faces` folder"
      ]
    },
    {
      "cell_type": "code",
      "execution_count": null,
      "metadata": {
        "id": "PZtR0-5BfzG7"
      },
      "outputs": [],
      "source": [
        "import cv2\n",
        "\n",
        "alg = \"haarcascade_frontalface_default.xml\"\n",
        "# passing the algorithm to OpenCV\n",
        "haar_cascade = cv2.CascadeClassifier(alg)\n",
        "file_name = \"sample.jpeg\"\n",
        "img = cv2.imread(file_name, 0)\n",
        "gray_img = cv2.cvtColor(img, cv2.COLOR_RGB2BGR)\n",
        "faces = haar_cascade.detectMultiScale(\n",
        "    gray_img, scaleFactor=1.05, minNeighbors=2, minSize=(100, 100)\n",
        ")\n",
        "\n",
        "i = 0\n",
        "for x, y, w, h in faces:\n",
        "    cropped_image = img[y : y + h, x : x + w]\n",
        "    target_file_name = 'stored-faces/' + str(i) + '.jpg'\n",
        "    cv2.imwrite(\n",
        "        target_file_name,\n",
        "        cropped_image,\n",
        "    )\n",
        "    i = i + 1;"
      ]
    },
    {
      "cell_type": "markdown",
      "metadata": {
        "id": "tL_W_i6MfzG7"
      },
      "source": [
        "## Step 2: Embeddings Calculation\n",
        "\n",
        "Calculate embeddings from the faces and pushing to PostgreSQL, you'll need to change the `<SERVICE_URI>` parameter with the PostgreSQL Service URI"
      ]
    },
    {
      "cell_type": "code",
      "execution_count": null,
      "metadata": {
        "id": "X-gDZTU5fzG8"
      },
      "outputs": [],
      "source": [
        "import numpy as np\n",
        "from imgbeddings import imgbeddings\n",
        "from PIL import Image\n",
        "import psycopg2\n",
        "import os\n",
        "\n",
        "conn = psycopg2.connect(\"<SERVICE_URI>\")\n",
        "\n",
        "for filename in os.listdir(\"stored-faces\"):\n",
        "    img = Image.open(\"stored-faces/\" + filename)\n",
        "    ibed = imgbeddings()\n",
        "    embedding = ibed.to_embeddings(img)\n",
        "    cur = conn.cursor()\n",
        "    cur.execute(\"INSERT INTO pictures values (%s,%s)\", (filename, embedding[0].tolist()))\n",
        "    print(filename)\n",
        "conn.commit()"
      ]
    },
    {
      "cell_type": "markdown",
      "metadata": {
        "id": "GGtjkExFfzG8"
      },
      "source": [
        "## Step 3: Calculate embeddings on a new picture\n",
        "\n",
        "Find the face and calculate the embeddings on the picture `solo-image.png` used for research"
      ]
    },
    {
      "cell_type": "code",
      "execution_count": null,
      "metadata": {
        "id": "-7Lu_sRefzG8"
      },
      "outputs": [],
      "source": [
        "# loading the face image path into file_name variable\n",
        "file_name = \"solo-image.png\" \n",
        "# opening the image\n",
        "img = Image.open(file_name)\n",
        "# loading the `imgbeddings`\n",
        "ibed = imgbeddings()\n",
        "# calculating the embeddings\n",
        "embedding = ibed.to_embeddings(img)"
      ]
    },
    {
      "cell_type": "markdown",
      "metadata": {
        "id": "IRNuACXefzG8"
      },
      "source": [
        "## Step 3: Find similar images by querying the Postgresql database using pgvector"
      ]
    },
    {
      "cell_type": "code",
      "execution_count": null,
      "metadata": {
        "id": "QGS1bkPofzG8"
      },
      "outputs": [],
      "source": [
        "from IPython.display import Image, display\n",
        "\n",
        "cur = conn.cursor()\n",
        "string_representation = \"[\"+ \",\".join(str(x) for x in embedding[0].tolist()) +\"]\"\n",
        "cur.execute(\"SELECT * FROM pictures ORDER BY embedding <-> %s LIMIT 1;\", (string_representation,))\n",
        "rows = cur.fetchall()\n",
        "for row in rows:\n",
        "    display(Image(filename=\"stored-faces/\"+row[0]))\n",
        "cur.close()"
      ]
    }
  ],
  "metadata": {
    "colab": {
      "provenance": []
    },
    "kernelspec": {
      "display_name": ".venv",
      "language": "python",
      "name": "python3"
    },
    "language_info": {
      "codemirror_mode": {
        "name": "ipython",
        "version": 3
      },
      "file_extension": ".py",
      "mimetype": "text/x-python",
      "name": "python",
      "nbconvert_exporter": "python",
      "pygments_lexer": "ipython3",
      "version": "3.13.6"
    },
    "orig_nbformat": 4
  },
  "nbformat": 4,
  "nbformat_minor": 0
}
